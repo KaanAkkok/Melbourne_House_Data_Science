{
 "cells": [
  {
   "cell_type": "code",
   "execution_count": 1,
   "id": "8f3e05b2-ab6d-47f4-bdce-4869d0185290",
   "metadata": {},
   "outputs": [],
   "source": [
    "import pandas as pd\n",
    "import numpy as np\n",
    "import seaborn as sns"
   ]
  },
  {
   "cell_type": "code",
   "execution_count": 2,
   "id": "bd895066-63ac-47a3-99c6-60c5633554bc",
   "metadata": {},
   "outputs": [],
   "source": [
    "dataset = pd.read_csv(\"MH_precrocessed_dataset.csv\")"
   ]
  },
  {
   "cell_type": "code",
   "execution_count": 3,
   "id": "bc991800-5028-4838-942e-86aa02ba4d9c",
   "metadata": {},
   "outputs": [],
   "source": [
    "# EDA dan sonra bazı columnları attım çünkü corr matrixi inceledim ve kategorik değerlerin price ile karşılaştırması sonrası gereksiz gördüğümden dolayı:\n",
    "# Address = Her satıra özel, yüksek kardinaliteli ve tahmin gücü olmayan gürültülü veri\n",
    "# SellerG = Satıcı adı değişkendir, gelecek tahminlerde tutarsızlığa yol açabilir\n",
    "# Date = Satış zamanı fiyatla doğrudan ilişkili görünmüyor (gürültü)\n",
    "# Propertycount = Bölgedeki ilan sayısı, fiyatla doğrudan anlamlı bir korelasyon göstermedi\n",
    "# Postcode = Fiyat üzerinde çok az etkisi var, ayrıca CouncilArea gibi alternatif sütunlar var\n",
    "dataset_after_eda = dataset.drop(columns=[\"Address\", \"SellerG\", \"Date\", \"Propertycount\", \"Postcode\"])"
   ]
  },
  {
   "cell_type": "code",
   "execution_count": 4,
   "id": "25ed2f90-0d7e-4a9b-82c7-0f4d9ebb9dc8",
   "metadata": {},
   "outputs": [
    {
     "name": "stdout",
     "output_type": "stream",
     "text": [
      "     Price Price_Category\n",
      "0   781500     Affordable\n",
      "1  1056532     Affordable\n",
      "2  1997500      Expensive\n",
      "3   600000     Affordable\n",
      "4  1140000     Affordable\n"
     ]
    },
    {
     "data": {
      "text/html": [
       "<div>\n",
       "<style scoped>\n",
       "    .dataframe tbody tr th:only-of-type {\n",
       "        vertical-align: middle;\n",
       "    }\n",
       "\n",
       "    .dataframe tbody tr th {\n",
       "        vertical-align: top;\n",
       "    }\n",
       "\n",
       "    .dataframe thead th {\n",
       "        text-align: right;\n",
       "    }\n",
       "</style>\n",
       "<table border=\"1\" class=\"dataframe\">\n",
       "  <thead>\n",
       "    <tr style=\"text-align: right;\">\n",
       "      <th></th>\n",
       "      <th>Suburb</th>\n",
       "      <th>Rooms</th>\n",
       "      <th>Type</th>\n",
       "      <th>Price</th>\n",
       "      <th>Method</th>\n",
       "      <th>Distance</th>\n",
       "      <th>Bedroom2</th>\n",
       "      <th>Bathroom</th>\n",
       "      <th>Car</th>\n",
       "      <th>Landsize</th>\n",
       "      <th>BuildingArea</th>\n",
       "      <th>YearBuilt</th>\n",
       "      <th>CouncilArea</th>\n",
       "      <th>Lattitude</th>\n",
       "      <th>Longtitude</th>\n",
       "      <th>Regionname</th>\n",
       "      <th>Price_Category</th>\n",
       "    </tr>\n",
       "  </thead>\n",
       "  <tbody>\n",
       "    <tr>\n",
       "      <th>0</th>\n",
       "      <td>Hillside</td>\n",
       "      <td>3</td>\n",
       "      <td>h</td>\n",
       "      <td>781500</td>\n",
       "      <td>S</td>\n",
       "      <td>18.0</td>\n",
       "      <td>3</td>\n",
       "      <td>2</td>\n",
       "      <td>2</td>\n",
       "      <td>666</td>\n",
       "      <td>139</td>\n",
       "      <td>1970</td>\n",
       "      <td>Brimbank City Council</td>\n",
       "      <td>-37.70161</td>\n",
       "      <td>144.753300</td>\n",
       "      <td>Western Metropolitan</td>\n",
       "      <td>Affordable</td>\n",
       "    </tr>\n",
       "    <tr>\n",
       "      <th>1</th>\n",
       "      <td>Brighton East</td>\n",
       "      <td>3</td>\n",
       "      <td>h</td>\n",
       "      <td>1056532</td>\n",
       "      <td>S</td>\n",
       "      <td>10.7</td>\n",
       "      <td>3</td>\n",
       "      <td>2</td>\n",
       "      <td>2</td>\n",
       "      <td>196</td>\n",
       "      <td>115</td>\n",
       "      <td>2009</td>\n",
       "      <td>Bayside City Council</td>\n",
       "      <td>-37.93020</td>\n",
       "      <td>145.029000</td>\n",
       "      <td>Southern Metropolitan</td>\n",
       "      <td>Affordable</td>\n",
       "    </tr>\n",
       "    <tr>\n",
       "      <th>2</th>\n",
       "      <td>Glen Iris</td>\n",
       "      <td>4</td>\n",
       "      <td>h</td>\n",
       "      <td>1997500</td>\n",
       "      <td>S</td>\n",
       "      <td>7.3</td>\n",
       "      <td>4</td>\n",
       "      <td>2</td>\n",
       "      <td>2</td>\n",
       "      <td>621</td>\n",
       "      <td>216</td>\n",
       "      <td>1945</td>\n",
       "      <td>Boroondara City Council</td>\n",
       "      <td>-37.86544</td>\n",
       "      <td>145.067390</td>\n",
       "      <td>Southern Metropolitan</td>\n",
       "      <td>Expensive</td>\n",
       "    </tr>\n",
       "    <tr>\n",
       "      <th>3</th>\n",
       "      <td>Oak Park</td>\n",
       "      <td>3</td>\n",
       "      <td>u</td>\n",
       "      <td>600000</td>\n",
       "      <td>SP</td>\n",
       "      <td>11.5</td>\n",
       "      <td>3</td>\n",
       "      <td>1</td>\n",
       "      <td>2</td>\n",
       "      <td>581</td>\n",
       "      <td>139</td>\n",
       "      <td>1970</td>\n",
       "      <td>Moreland City Council</td>\n",
       "      <td>-37.71667</td>\n",
       "      <td>144.913682</td>\n",
       "      <td>Northern Metropolitan</td>\n",
       "      <td>Affordable</td>\n",
       "    </tr>\n",
       "    <tr>\n",
       "      <th>4</th>\n",
       "      <td>Beaumaris</td>\n",
       "      <td>4</td>\n",
       "      <td>h</td>\n",
       "      <td>1140000</td>\n",
       "      <td>S</td>\n",
       "      <td>17.3</td>\n",
       "      <td>4</td>\n",
       "      <td>2</td>\n",
       "      <td>2</td>\n",
       "      <td>790</td>\n",
       "      <td>171</td>\n",
       "      <td>1995</td>\n",
       "      <td>Bayside City Council</td>\n",
       "      <td>-37.97501</td>\n",
       "      <td>145.052570</td>\n",
       "      <td>Southern Metropolitan</td>\n",
       "      <td>Affordable</td>\n",
       "    </tr>\n",
       "  </tbody>\n",
       "</table>\n",
       "</div>"
      ],
      "text/plain": [
       "          Suburb  Rooms Type    Price Method  Distance  Bedroom2  Bathroom  \\\n",
       "0       Hillside      3    h   781500      S      18.0         3         2   \n",
       "1  Brighton East      3    h  1056532      S      10.7         3         2   \n",
       "2      Glen Iris      4    h  1997500      S       7.3         4         2   \n",
       "3       Oak Park      3    u   600000     SP      11.5         3         1   \n",
       "4      Beaumaris      4    h  1140000      S      17.3         4         2   \n",
       "\n",
       "   Car  Landsize  BuildingArea  YearBuilt              CouncilArea  Lattitude  \\\n",
       "0    2       666           139       1970    Brimbank City Council  -37.70161   \n",
       "1    2       196           115       2009     Bayside City Council  -37.93020   \n",
       "2    2       621           216       1945  Boroondara City Council  -37.86544   \n",
       "3    2       581           139       1970    Moreland City Council  -37.71667   \n",
       "4    2       790           171       1995     Bayside City Council  -37.97501   \n",
       "\n",
       "   Longtitude             Regionname Price_Category  \n",
       "0  144.753300   Western Metropolitan     Affordable  \n",
       "1  145.029000  Southern Metropolitan     Affordable  \n",
       "2  145.067390  Southern Metropolitan      Expensive  \n",
       "3  144.913682  Northern Metropolitan     Affordable  \n",
       "4  145.052570  Southern Metropolitan     Affordable  "
      ]
     },
     "execution_count": 4,
     "metadata": {},
     "output_type": "execute_result"
    }
   ],
   "source": [
    "# price distribution tablosu right skewed olduğu için log(1+x) formülüyle log dönüşüm yapıp fiyatlar arasındaki farkı azalttım\n",
    "price_log = np.log1p(dataset_after_eda[\"Price\"])\n",
    "mean = price_log.mean()\n",
    "std = price_log.std()\n",
    "\n",
    "# yeni bir sütun ekledim. Bu sütun price değerlerini kategoriksel olarak ucuz, orta, pahalı ve lüks diye sınıflandırıyor.\n",
    "# min ile (mean-std) arası -> Cheap\n",
    "# (mean-std) ile (mean+std) arası -> Affordable\n",
    "# (mean+std) ile max arası -> Expensive\n",
    "# daha sonra data tipini category den object çevirdim\n",
    "dataset_after_eda[\"Price_Category\"] = pd.cut(price_log, bins = [price_log.min(), mean - std, mean + std, price_log.max()], labels=[\"Cheap\", \"Affordable\", \"Expensive\"], include_lowest=True).astype(object)\n",
    "print(dataset_after_eda[[\"Price\", \"Price_Category\"]].head())\n",
    "dataset_after_eda.head()"
   ]
  },
  {
   "cell_type": "code",
   "execution_count": 5,
   "id": "a8a1006e-20f6-445f-b574-9650acf5bcc9",
   "metadata": {},
   "outputs": [],
   "source": [
    "# price category e göre sınıflandırma yapacağım\n",
    "y = dataset_after_eda[\"Price_Category\"]\n",
    "# data leakage olmasın diye price da çıkartıyorum\n",
    "X = dataset_after_eda.drop([\"Price\", \"Price_Category\"], axis=1)"
   ]
  },
  {
   "cell_type": "markdown",
   "id": "e1bd00c3-bd5f-456d-ad0a-abf32708638e",
   "metadata": {},
   "source": [
    "X preprocessing"
   ]
  },
  {
   "cell_type": "code",
   "execution_count": 6,
   "id": "ddb69147-ac58-4649-a5fd-1901789f0be9",
   "metadata": {},
   "outputs": [],
   "source": [
    "numerical_cols = X.select_dtypes(include=[np.number]).columns.tolist()\n",
    "# numerik kategorik değerleri (Rooms, Car, Bedroom2, Bathroom) numerical_cols dan ayırıyorum \n",
    "numerical_cols = [col for col in numerical_cols if col not in [\"Rooms\", \"Car\", \"Bedroom2\", \"Bathroom\"]]\n",
    "categorical_cols = X.select_dtypes(include=[\"object\"]).columns.tolist()\n",
    "# numerik kategorik değerleri (Rooms, Car, Bedroom2, Bathroom) categorical_cols a ekliyorum\n",
    "categorical_cols.extend([\"Rooms\", \"Car\", \"Bedroom2\", \"Bathroom\"])"
   ]
  },
  {
   "cell_type": "code",
   "execution_count": 7,
   "id": "1fbe7092-1093-422f-ba9c-6053d3c9c3be",
   "metadata": {},
   "outputs": [
    {
     "data": {
      "text/html": [
       "<div>\n",
       "<style scoped>\n",
       "    .dataframe tbody tr th:only-of-type {\n",
       "        vertical-align: middle;\n",
       "    }\n",
       "\n",
       "    .dataframe tbody tr th {\n",
       "        vertical-align: top;\n",
       "    }\n",
       "\n",
       "    .dataframe thead th {\n",
       "        text-align: right;\n",
       "    }\n",
       "</style>\n",
       "<table border=\"1\" class=\"dataframe\">\n",
       "  <thead>\n",
       "    <tr style=\"text-align: right;\">\n",
       "      <th></th>\n",
       "      <th>Distance</th>\n",
       "      <th>Landsize</th>\n",
       "      <th>BuildingArea</th>\n",
       "      <th>YearBuilt</th>\n",
       "      <th>Lattitude</th>\n",
       "      <th>Longtitude</th>\n",
       "      <th>Suburb_Aberfeldie</th>\n",
       "      <th>Suburb_Airport West</th>\n",
       "      <th>Suburb_Albanvale</th>\n",
       "      <th>Suburb_Albert Park</th>\n",
       "      <th>...</th>\n",
       "      <th>Bedroom2_9</th>\n",
       "      <th>Bedroom2_30</th>\n",
       "      <th>Bathroom_1</th>\n",
       "      <th>Bathroom_2</th>\n",
       "      <th>Bathroom_3</th>\n",
       "      <th>Bathroom_4</th>\n",
       "      <th>Bathroom_5</th>\n",
       "      <th>Bathroom_6</th>\n",
       "      <th>Bathroom_7</th>\n",
       "      <th>Bathroom_12</th>\n",
       "    </tr>\n",
       "  </thead>\n",
       "  <tbody>\n",
       "    <tr>\n",
       "      <th>0</th>\n",
       "      <td>18.0</td>\n",
       "      <td>666</td>\n",
       "      <td>139</td>\n",
       "      <td>1970</td>\n",
       "      <td>-37.70161</td>\n",
       "      <td>144.753300</td>\n",
       "      <td>0</td>\n",
       "      <td>0</td>\n",
       "      <td>0</td>\n",
       "      <td>0</td>\n",
       "      <td>...</td>\n",
       "      <td>0</td>\n",
       "      <td>0</td>\n",
       "      <td>0</td>\n",
       "      <td>1</td>\n",
       "      <td>0</td>\n",
       "      <td>0</td>\n",
       "      <td>0</td>\n",
       "      <td>0</td>\n",
       "      <td>0</td>\n",
       "      <td>0</td>\n",
       "    </tr>\n",
       "    <tr>\n",
       "      <th>1</th>\n",
       "      <td>10.7</td>\n",
       "      <td>196</td>\n",
       "      <td>115</td>\n",
       "      <td>2009</td>\n",
       "      <td>-37.93020</td>\n",
       "      <td>145.029000</td>\n",
       "      <td>0</td>\n",
       "      <td>0</td>\n",
       "      <td>0</td>\n",
       "      <td>0</td>\n",
       "      <td>...</td>\n",
       "      <td>0</td>\n",
       "      <td>0</td>\n",
       "      <td>0</td>\n",
       "      <td>1</td>\n",
       "      <td>0</td>\n",
       "      <td>0</td>\n",
       "      <td>0</td>\n",
       "      <td>0</td>\n",
       "      <td>0</td>\n",
       "      <td>0</td>\n",
       "    </tr>\n",
       "    <tr>\n",
       "      <th>2</th>\n",
       "      <td>7.3</td>\n",
       "      <td>621</td>\n",
       "      <td>216</td>\n",
       "      <td>1945</td>\n",
       "      <td>-37.86544</td>\n",
       "      <td>145.067390</td>\n",
       "      <td>0</td>\n",
       "      <td>0</td>\n",
       "      <td>0</td>\n",
       "      <td>0</td>\n",
       "      <td>...</td>\n",
       "      <td>0</td>\n",
       "      <td>0</td>\n",
       "      <td>0</td>\n",
       "      <td>1</td>\n",
       "      <td>0</td>\n",
       "      <td>0</td>\n",
       "      <td>0</td>\n",
       "      <td>0</td>\n",
       "      <td>0</td>\n",
       "      <td>0</td>\n",
       "    </tr>\n",
       "    <tr>\n",
       "      <th>3</th>\n",
       "      <td>11.5</td>\n",
       "      <td>581</td>\n",
       "      <td>139</td>\n",
       "      <td>1970</td>\n",
       "      <td>-37.71667</td>\n",
       "      <td>144.913682</td>\n",
       "      <td>0</td>\n",
       "      <td>0</td>\n",
       "      <td>0</td>\n",
       "      <td>0</td>\n",
       "      <td>...</td>\n",
       "      <td>0</td>\n",
       "      <td>0</td>\n",
       "      <td>1</td>\n",
       "      <td>0</td>\n",
       "      <td>0</td>\n",
       "      <td>0</td>\n",
       "      <td>0</td>\n",
       "      <td>0</td>\n",
       "      <td>0</td>\n",
       "      <td>0</td>\n",
       "    </tr>\n",
       "    <tr>\n",
       "      <th>4</th>\n",
       "      <td>17.3</td>\n",
       "      <td>790</td>\n",
       "      <td>171</td>\n",
       "      <td>1995</td>\n",
       "      <td>-37.97501</td>\n",
       "      <td>145.052570</td>\n",
       "      <td>0</td>\n",
       "      <td>0</td>\n",
       "      <td>0</td>\n",
       "      <td>0</td>\n",
       "      <td>...</td>\n",
       "      <td>0</td>\n",
       "      <td>0</td>\n",
       "      <td>0</td>\n",
       "      <td>1</td>\n",
       "      <td>0</td>\n",
       "      <td>0</td>\n",
       "      <td>0</td>\n",
       "      <td>0</td>\n",
       "      <td>0</td>\n",
       "      <td>0</td>\n",
       "    </tr>\n",
       "  </tbody>\n",
       "</table>\n",
       "<p>5 rows × 357 columns</p>\n",
       "</div>"
      ],
      "text/plain": [
       "   Distance  Landsize  BuildingArea  YearBuilt  Lattitude  Longtitude  \\\n",
       "0      18.0       666           139       1970  -37.70161  144.753300   \n",
       "1      10.7       196           115       2009  -37.93020  145.029000   \n",
       "2       7.3       621           216       1945  -37.86544  145.067390   \n",
       "3      11.5       581           139       1970  -37.71667  144.913682   \n",
       "4      17.3       790           171       1995  -37.97501  145.052570   \n",
       "\n",
       "   Suburb_Aberfeldie  Suburb_Airport West  Suburb_Albanvale  \\\n",
       "0                  0                    0                 0   \n",
       "1                  0                    0                 0   \n",
       "2                  0                    0                 0   \n",
       "3                  0                    0                 0   \n",
       "4                  0                    0                 0   \n",
       "\n",
       "   Suburb_Albert Park  ...  Bedroom2_9  Bedroom2_30  Bathroom_1  Bathroom_2  \\\n",
       "0                   0  ...           0            0           0           1   \n",
       "1                   0  ...           0            0           0           1   \n",
       "2                   0  ...           0            0           0           1   \n",
       "3                   0  ...           0            0           1           0   \n",
       "4                   0  ...           0            0           0           1   \n",
       "\n",
       "   Bathroom_3  Bathroom_4  Bathroom_5  Bathroom_6  Bathroom_7  Bathroom_12  \n",
       "0           0           0           0           0           0            0  \n",
       "1           0           0           0           0           0            0  \n",
       "2           0           0           0           0           0            0  \n",
       "3           0           0           0           0           0            0  \n",
       "4           0           0           0           0           0            0  \n",
       "\n",
       "[5 rows x 357 columns]"
      ]
     },
     "execution_count": 7,
     "metadata": {},
     "output_type": "execute_result"
    }
   ],
   "source": [
    "X_encoded = pd.get_dummies(X, columns=categorical_cols, drop_first=True)\n",
    "bool_cols = X_encoded.select_dtypes(include=[\"bool\"]).columns\n",
    "X_encoded[bool_cols] = X_encoded[bool_cols].astype(int)\n",
    "X_encoded.head()"
   ]
  },
  {
   "cell_type": "code",
   "execution_count": 8,
   "id": "ec75e6ba-4a5d-4fb5-b6eb-2e3e41e430a4",
   "metadata": {},
   "outputs": [
    {
     "data": {
      "text/html": [
       "<div>\n",
       "<style scoped>\n",
       "    .dataframe tbody tr th:only-of-type {\n",
       "        vertical-align: middle;\n",
       "    }\n",
       "\n",
       "    .dataframe tbody tr th {\n",
       "        vertical-align: top;\n",
       "    }\n",
       "\n",
       "    .dataframe thead th {\n",
       "        text-align: right;\n",
       "    }\n",
       "</style>\n",
       "<table border=\"1\" class=\"dataframe\">\n",
       "  <thead>\n",
       "    <tr style=\"text-align: right;\">\n",
       "      <th></th>\n",
       "      <th>Distance</th>\n",
       "      <th>Landsize</th>\n",
       "      <th>BuildingArea</th>\n",
       "      <th>YearBuilt</th>\n",
       "      <th>Lattitude</th>\n",
       "      <th>Longtitude</th>\n",
       "      <th>Suburb_Aberfeldie</th>\n",
       "      <th>Suburb_Airport West</th>\n",
       "      <th>Suburb_Albanvale</th>\n",
       "      <th>Suburb_Albert Park</th>\n",
       "      <th>...</th>\n",
       "      <th>Bedroom2_9</th>\n",
       "      <th>Bedroom2_30</th>\n",
       "      <th>Bathroom_1</th>\n",
       "      <th>Bathroom_2</th>\n",
       "      <th>Bathroom_3</th>\n",
       "      <th>Bathroom_4</th>\n",
       "      <th>Bathroom_5</th>\n",
       "      <th>Bathroom_6</th>\n",
       "      <th>Bathroom_7</th>\n",
       "      <th>Bathroom_12</th>\n",
       "    </tr>\n",
       "  </thead>\n",
       "  <tbody>\n",
       "    <tr>\n",
       "      <th>0</th>\n",
       "      <td>1.004945</td>\n",
       "      <td>0.027141</td>\n",
       "      <td>-0.178461</td>\n",
       "      <td>0.074940</td>\n",
       "      <td>1.251663</td>\n",
       "      <td>-2.087638</td>\n",
       "      <td>0</td>\n",
       "      <td>0</td>\n",
       "      <td>0</td>\n",
       "      <td>0</td>\n",
       "      <td>...</td>\n",
       "      <td>0</td>\n",
       "      <td>0</td>\n",
       "      <td>0</td>\n",
       "      <td>1</td>\n",
       "      <td>0</td>\n",
       "      <td>0</td>\n",
       "      <td>0</td>\n",
       "      <td>0</td>\n",
       "      <td>0</td>\n",
       "      <td>0</td>\n",
       "    </tr>\n",
       "    <tr>\n",
       "      <th>1</th>\n",
       "      <td>-0.081595</td>\n",
       "      <td>-0.254946</td>\n",
       "      <td>-0.451312</td>\n",
       "      <td>1.644145</td>\n",
       "      <td>-1.366516</td>\n",
       "      <td>0.224529</td>\n",
       "      <td>0</td>\n",
       "      <td>0</td>\n",
       "      <td>0</td>\n",
       "      <td>0</td>\n",
       "      <td>...</td>\n",
       "      <td>0</td>\n",
       "      <td>0</td>\n",
       "      <td>0</td>\n",
       "      <td>1</td>\n",
       "      <td>0</td>\n",
       "      <td>0</td>\n",
       "      <td>0</td>\n",
       "      <td>0</td>\n",
       "      <td>0</td>\n",
       "      <td>0</td>\n",
       "    </tr>\n",
       "    <tr>\n",
       "      <th>2</th>\n",
       "      <td>-0.587654</td>\n",
       "      <td>0.000133</td>\n",
       "      <td>0.696935</td>\n",
       "      <td>-0.930961</td>\n",
       "      <td>-0.624781</td>\n",
       "      <td>0.546488</td>\n",
       "      <td>0</td>\n",
       "      <td>0</td>\n",
       "      <td>0</td>\n",
       "      <td>0</td>\n",
       "      <td>...</td>\n",
       "      <td>0</td>\n",
       "      <td>0</td>\n",
       "      <td>0</td>\n",
       "      <td>1</td>\n",
       "      <td>0</td>\n",
       "      <td>0</td>\n",
       "      <td>0</td>\n",
       "      <td>0</td>\n",
       "      <td>0</td>\n",
       "      <td>0</td>\n",
       "    </tr>\n",
       "    <tr>\n",
       "      <th>3</th>\n",
       "      <td>0.037478</td>\n",
       "      <td>-0.023875</td>\n",
       "      <td>-0.178461</td>\n",
       "      <td>0.074940</td>\n",
       "      <td>1.079172</td>\n",
       "      <td>-0.742592</td>\n",
       "      <td>0</td>\n",
       "      <td>0</td>\n",
       "      <td>0</td>\n",
       "      <td>0</td>\n",
       "      <td>...</td>\n",
       "      <td>0</td>\n",
       "      <td>0</td>\n",
       "      <td>1</td>\n",
       "      <td>0</td>\n",
       "      <td>0</td>\n",
       "      <td>0</td>\n",
       "      <td>0</td>\n",
       "      <td>0</td>\n",
       "      <td>0</td>\n",
       "      <td>0</td>\n",
       "    </tr>\n",
       "    <tr>\n",
       "      <th>4</th>\n",
       "      <td>0.900756</td>\n",
       "      <td>0.101564</td>\n",
       "      <td>0.185340</td>\n",
       "      <td>1.080841</td>\n",
       "      <td>-1.879752</td>\n",
       "      <td>0.422199</td>\n",
       "      <td>0</td>\n",
       "      <td>0</td>\n",
       "      <td>0</td>\n",
       "      <td>0</td>\n",
       "      <td>...</td>\n",
       "      <td>0</td>\n",
       "      <td>0</td>\n",
       "      <td>0</td>\n",
       "      <td>1</td>\n",
       "      <td>0</td>\n",
       "      <td>0</td>\n",
       "      <td>0</td>\n",
       "      <td>0</td>\n",
       "      <td>0</td>\n",
       "      <td>0</td>\n",
       "    </tr>\n",
       "  </tbody>\n",
       "</table>\n",
       "<p>5 rows × 357 columns</p>\n",
       "</div>"
      ],
      "text/plain": [
       "   Distance  Landsize  BuildingArea  YearBuilt  Lattitude  Longtitude  \\\n",
       "0  1.004945  0.027141     -0.178461   0.074940   1.251663   -2.087638   \n",
       "1 -0.081595 -0.254946     -0.451312   1.644145  -1.366516    0.224529   \n",
       "2 -0.587654  0.000133      0.696935  -0.930961  -0.624781    0.546488   \n",
       "3  0.037478 -0.023875     -0.178461   0.074940   1.079172   -0.742592   \n",
       "4  0.900756  0.101564      0.185340   1.080841  -1.879752    0.422199   \n",
       "\n",
       "   Suburb_Aberfeldie  Suburb_Airport West  Suburb_Albanvale  \\\n",
       "0                  0                    0                 0   \n",
       "1                  0                    0                 0   \n",
       "2                  0                    0                 0   \n",
       "3                  0                    0                 0   \n",
       "4                  0                    0                 0   \n",
       "\n",
       "   Suburb_Albert Park  ...  Bedroom2_9  Bedroom2_30  Bathroom_1  Bathroom_2  \\\n",
       "0                   0  ...           0            0           0           1   \n",
       "1                   0  ...           0            0           0           1   \n",
       "2                   0  ...           0            0           0           1   \n",
       "3                   0  ...           0            0           1           0   \n",
       "4                   0  ...           0            0           0           1   \n",
       "\n",
       "   Bathroom_3  Bathroom_4  Bathroom_5  Bathroom_6  Bathroom_7  Bathroom_12  \n",
       "0           0           0           0           0           0            0  \n",
       "1           0           0           0           0           0            0  \n",
       "2           0           0           0           0           0            0  \n",
       "3           0           0           0           0           0            0  \n",
       "4           0           0           0           0           0            0  \n",
       "\n",
       "[5 rows x 357 columns]"
      ]
     },
     "execution_count": 8,
     "metadata": {},
     "output_type": "execute_result"
    }
   ],
   "source": [
    "X_encoded_scaled = X_encoded.copy()\n",
    "\n",
    "# numerical değerlere standard scaler uyguluyorum\n",
    "from sklearn.preprocessing import StandardScaler\n",
    "\n",
    "scaler = StandardScaler()\n",
    "X_encoded_scaled[numerical_cols] = scaler.fit_transform(X_encoded[numerical_cols])\n",
    "X_encoded_scaled.head()"
   ]
  },
  {
   "cell_type": "markdown",
   "id": "3ab01886-ac4b-412b-a231-d9c2cdff9e62",
   "metadata": {},
   "source": [
    "y preprocessing"
   ]
  },
  {
   "cell_type": "code",
   "execution_count": 9,
   "id": "8e0f80f4-f50a-4068-8798-ccc3dc48a75b",
   "metadata": {},
   "outputs": [],
   "source": [
    "from sklearn.preprocessing import LabelEncoder\n",
    "\n",
    "le = LabelEncoder()\n",
    "y_encoded = le.fit_transform(y)"
   ]
  },
  {
   "cell_type": "markdown",
   "id": "8c3747a8-eab1-4dce-8736-17bede5565b0",
   "metadata": {},
   "source": [
    "Applying RandomUnderSampler for UnderSampling"
   ]
  },
  {
   "cell_type": "code",
   "execution_count": 10,
   "id": "c0ac6d65-d197-478e-80cf-4c12fc5e0ceb",
   "metadata": {},
   "outputs": [
    {
     "data": {
      "text/plain": [
       "Price_Category\n",
       "Affordable    1390\n",
       "Cheap          315\n",
       "Expensive      295\n",
       "Name: count, dtype: int64"
      ]
     },
     "execution_count": 10,
     "metadata": {},
     "output_type": "execute_result"
    }
   ],
   "source": [
    "y.value_counts()"
   ]
  },
  {
   "cell_type": "code",
   "execution_count": 11,
   "id": "ac1f0332-298a-4aa6-9bca-264898cc7158",
   "metadata": {},
   "outputs": [
    {
     "data": {
      "text/plain": [
       "<Axes: ylabel='count'>"
      ]
     },
     "execution_count": 11,
     "metadata": {},
     "output_type": "execute_result"
    },
    {
     "data": {
      "image/png": "[encoded data removed]",
      "text/plain": [
       "<Figure size 640x480 with 1 Axes>"
      ]
     },
     "metadata": {},
     "output_type": "display_data"
    }
   ],
   "source": [
    "# pie chart ile verinin balanced olup olmadığına bakıyorum\n",
    "y.value_counts().plot.pie(autopct=\"%.2f\")"
   ]
  },
  {
   "cell_type": "code",
   "execution_count": 12,
   "id": "7e934209-535c-465c-a517-ab114216f568",
   "metadata": {},
   "outputs": [],
   "source": [
    "# UnderSampling uyguluyorum\n",
    "from imblearn.under_sampling import RandomUnderSampler\n",
    "\n",
    "rus = RandomUnderSampler(random_state=42)\n",
    "X_encoded_scaled_balanced, y_encoded_balanced = rus.fit_resample(X_encoded_scaled, y_encoded)\n",
    "\n",
    "X_encoded_scaled_balanced = X_encoded_scaled_balanced.reset_index(drop=True)\n",
    "y_encoded_balanced = pd.Series(y_encoded_balanced).reset_index(drop=True)"
   ]
  },
  {
   "cell_type": "code",
   "execution_count": 13,
   "id": "f94bc802-21f8-4ade-88fa-78b3b391ab53",
   "metadata": {},
   "outputs": [
    {
     "data": {
      "text/plain": [
       "0    295\n",
       "1    295\n",
       "2    295\n",
       "Name: count, dtype: int64"
      ]
     },
     "execution_count": 13,
     "metadata": {},
     "output_type": "execute_result"
    }
   ],
   "source": [
    "y_encoded_balanced.value_counts()"
   ]
  },
  {
   "cell_type": "code",
   "execution_count": 14,
   "id": "29758739-d372-4219-b98c-6dbc7aa687e2",
   "metadata": {},
   "outputs": [
    {
     "data": {
      "text/plain": [
       "<Axes: ylabel='count'>"
      ]
     },
     "execution_count": 14,
     "metadata": {},
     "output_type": "execute_result"
    },
    {
     "data": {
      "image/png": "[encoded data removed]",
      "text/plain": [
       "<Figure size 640x480 with 1 Axes>"
      ]
     },
     "metadata": {},
     "output_type": "display_data"
    }
   ],
   "source": [
    "y_encoded_balanced.value_counts().plot.pie(autopct=\"%.2f\")"
   ]
  },
  {
   "cell_type": "markdown",
   "id": "ad3b9356-d53c-49fa-883a-acf6312e8da0",
   "metadata": {},
   "source": [
    " Feature Selection with Mutual Information Classification"
   ]
  },
  {
   "cell_type": "code",
   "execution_count": 15,
   "id": "f927b988-f036-4bbf-be28-92bf2872aa0f",
   "metadata": {},
   "outputs": [],
   "source": [
    "from sklearn.feature_selection import mutual_info_classif"
   ]
  },
  {
   "cell_type": "code",
   "execution_count": 16,
   "id": "0c0e2837-24c2-485a-a5f3-bcf0706c3f98",
   "metadata": {},
   "outputs": [],
   "source": [
    "mi_scores = mutual_info_classif(X_encoded_scaled_balanced, y_encoded_balanced, discrete_features='auto', random_state=42)\n",
    "\n",
    "# Skorları DataFrame olarak kaydettim\n",
    "mi_df = pd.DataFrame({\n",
    "    \"Feature\": X_encoded_scaled_balanced.columns,\n",
    "    \"MI Score\": mi_scores\n",
    "})\n",
    "\n",
    "# Skora göre sıraladım\n",
    "mi_df = mi_df.sort_values(by=\"MI Score\", ascending=False)"
   ]
  },
  {
   "cell_type": "code",
   "execution_count": 17,
   "id": "88cad36b-d5eb-4b2c-8b4b-70ac72824472",
   "metadata": {},
   "outputs": [
    {
     "name": "stdout",
     "output_type": "stream",
     "text": [
      "Top 5 Features:\n",
      " ['BuildingArea', 'Distance', 'Longtitude', 'Lattitude', 'Bathroom_1']\n"
     ]
    }
   ],
   "source": [
    "# İlk 5 özelliği aldım\n",
    "top_5_features = mi_df[\"Feature\"].head(5).tolist()\n",
    "print(\"Top 5 Features:\\n\", top_5_features)"
   ]
  },
  {
   "cell_type": "markdown",
   "id": "cf17959c-2ae8-4a54-b882-200b7a01e6f0",
   "metadata": {},
   "source": [
    "Training Random Forest Model with Top 5 Feature"
   ]
  },
  {
   "cell_type": "code",
   "execution_count": 18,
   "id": "25216df7-8c46-4290-b890-7956d21e748f",
   "metadata": {},
   "outputs": [],
   "source": [
    "X_top5 = X_encoded_scaled_balanced[top_5_features]"
   ]
  },
  {
   "cell_type": "code",
   "execution_count": 19,
   "id": "bd1baa03-5059-47ef-abf4-d06b0df0b819",
   "metadata": {},
   "outputs": [],
   "source": [
    "from sklearn.ensemble import RandomForestClassifier\n",
    "from sklearn.model_selection import cross_val_score, StratifiedKFold"
   ]
  },
  {
   "cell_type": "code",
   "execution_count": 20,
   "id": "9277314d-f1e8-4be7-9f99-cb6206a7ed14",
   "metadata": {},
   "outputs": [
    {
     "name": "stdout",
     "output_type": "stream",
     "text": [
      "All features - CV accuracy:  0.78\n",
      "Top 5 features - CV accuracy:  0.73\n"
     ]
    }
   ],
   "source": [
    "rf = RandomForestClassifier(random_state=42)\n",
    "cv = StratifiedKFold(n_splits=10, shuffle=True, random_state=42)\n",
    "scores_all = cross_val_score(rf, X_encoded_scaled_balanced, y_encoded_balanced, cv=cv, scoring=\"accuracy\")\n",
    "scores_top5 = cross_val_score(rf, X_top5, y_encoded_balanced, cv=cv, scoring=\"accuracy\")\n",
    "\n",
    "print(\"All features - CV accuracy: \", round(scores_all.mean(), 2))\n",
    "print(\"Top 5 features - CV accuracy: \", round(scores_top5.mean(), 2))"
   ]
  },
  {
   "cell_type": "markdown",
   "id": "918449ff-a1ac-4d23-a63e-2da90450d103",
   "metadata": {},
   "source": [
    "Feature Selection with Random Forest Classification"
   ]
  },
  {
   "cell_type": "code",
   "execution_count": 21,
   "id": "064bdf5c-fc20-4a4a-9704-8b3ec68f9724",
   "metadata": {},
   "outputs": [],
   "source": [
    "rf1 = RandomForestClassifier(random_state=42)\n",
    "rf1.fit(X_encoded_scaled_balanced, y_encoded_balanced)\n",
    "importances = rf1.feature_importances_\n",
    "\n",
    "feat_importances = pd.DataFrame({\n",
    "    \"Feature\": X_encoded_scaled_balanced.columns,\n",
    "    \"Importance\": importances\n",
    "})\n",
    "\n",
    "feat_importances = feat_importances.sort_values(by=\"Importance\", ascending=False)"
   ]
  },
  {
   "cell_type": "code",
   "execution_count": 22,
   "id": "6f6ddd4a-27f7-469e-8079-471b9c0322d4",
   "metadata": {},
   "outputs": [
    {
     "name": "stdout",
     "output_type": "stream",
     "text": [
      "Top 5 Features:\n",
      " ['BuildingArea', 'Longtitude', 'Lattitude', 'Distance', 'Landsize']\n"
     ]
    }
   ],
   "source": [
    "top5_rf_features = feat_importances[\"Feature\"].head(5).tolist()\n",
    "print(\"Top 5 Features:\\n\", top5_rf_features)"
   ]
  },
  {
   "cell_type": "markdown",
   "id": "18e1f54d-f093-423c-86f8-1b7755a1c1f0",
   "metadata": {},
   "source": [
    "Training Random Forest Model with Top 5 Feature"
   ]
  },
  {
   "cell_type": "code",
   "execution_count": 23,
   "id": "11504c43-a402-481c-a228-87ba6d2bab26",
   "metadata": {},
   "outputs": [],
   "source": [
    "X_top5_rf = X_encoded_scaled_balanced[top5_rf_features]"
   ]
  },
  {
   "cell_type": "code",
   "execution_count": 24,
   "id": "3245f5a1-b8ca-424b-9f50-e6a7e2a14221",
   "metadata": {},
   "outputs": [
    {
     "name": "stdout",
     "output_type": "stream",
     "text": [
      "All features - CV accuracy:  0.78\n",
      "Top 5 (RF feature importances) - CV accuracy: 0.75\n"
     ]
    }
   ],
   "source": [
    "rf2 = RandomForestClassifier(random_state=42)\n",
    "cv = StratifiedKFold(n_splits=10, shuffle=True, random_state=42)\n",
    "scores_rf_top5 = cross_val_score(rf2, X_top5_rf, y_encoded_balanced, cv=cv, scoring=\"accuracy\")\n",
    "\n",
    "print(\"All features - CV accuracy: \", round(scores_all.mean(), 2))\n",
    "print(\"Top 5 (RF feature importances) - CV accuracy:\", round(scores_rf_top5.mean(), 2))"
   ]
  },
  {
   "cell_type": "code",
   "execution_count": null,
   "id": "e340d500-6787-4261-ac8d-de01fafb9a47",
   "metadata": {},
   "outputs": [],
   "source": []
  }
 ],
 "metadata": {
  "kernelspec": {
   "display_name": "Python [conda env:base] *",
   "language": "python",
   "name": "conda-base-py"
  },
  "language_info": {
   "codemirror_mode": {
    "name": "ipython",
    "version": 3
   },
   "file_extension": ".py",
   "mimetype": "text/x-python",
   "name": "python",
   "nbconvert_exporter": "python",
   "pygments_lexer": "ipython3",
   "version": "3.12.3"
  }
 },
 "nbformat": 4,
 "nbformat_minor": 5
}
